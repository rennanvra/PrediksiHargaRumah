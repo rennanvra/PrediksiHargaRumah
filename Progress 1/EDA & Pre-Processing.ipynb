{
 "cells": [
  {
   "cell_type": "markdown",
   "id": "0",
   "metadata": {
    "_cell_guid": "b1076dfc-b9ad-4769-8c92-a6c4dae69d19",
    "_uuid": "8f2839f25d086af736a60e9eeb907d3b93b6e0e5",
    "id": "2157c131",
    "papermill": {
     "duration": 0.015352,
     "end_time": "2023-09-29T06:51:43.592959",
     "exception": false,
     "start_time": "2023-09-29T06:51:43.577607",
     "status": "completed"
    },
    "tags": []
   },
   "source": [
    "# Abstract\n",
    "\n",
    "Studi ini berfokus pada penggunaan regresi linier untuk memprediksi harga rumah di Jakarta dan Tebet, Indonesia. Setelah menganalisis data, kami memperoleh akurasi prediksi sebesar 65,64%. Hasil ini menunjukkan bahwa model yang digunakan cukup mampu menghasilkan prediksi yang akurat, meskipun masih terdapat ruang untuk perbaikan. Studi ini memberikan wawasan mengenai faktor-faktor yang memengaruhi harga rumah di wilayah tersebut serta menunjukkan kegunaan regresi linier sebagai alat untuk menganalisis tren pasar properti. Penelitian selanjutnya dapat mengembangkan studi ini dengan menyempurnakan model dan mengeksplorasi faktor tambahan yang mungkin memengaruhi harga rumah. Secara keseluruhan, eksperimen ini menyoroti potensi regresi linier dalam peramalan properti dan memberikan wawasan berharga mengenai pasar perumahan di Jakarta dan Tebet."
   ]
  },
  {
   "cell_type": "markdown",
   "id": "1",
   "metadata": {
    "id": "cb567cd0",
    "papermill": {
     "duration": 0.014896,
     "end_time": "2023-09-29T06:51:43.622222",
     "exception": false,
     "start_time": "2023-09-29T06:51:43.607326",
     "status": "completed"
    },
    "tags": []
   },
   "source": [
    "# Introduction\n",
    "\n",
    "Dalam beberapa tahun terakhir, industri properti di Jakarta dan Tebet, Indonesia telah mengalami pertumbuhan yang pesat, menjadikannya area yang menarik untuk penelitian dan eksperimen. Salah satu tugas umum dalam bidang ini adalah meramalkan harga rumah, yang bisa menjadi tantangan karena sifat pasar yang kompleks dan dinamis. Dalam eksperimen ini, kami akan menggunakan regresi linier, sebuah metode statistik yang banyak digunakan, untuk menganalisis data dan membuat prediksi mengenai harga rumah di Jakarta dan Tebet. Dengan menerapkan teknik ini, kami bertujuan untuk memperoleh wawasan tentang faktor-faktor yang memengaruhi harga rumah serta meningkatkan kemampuan kami dalam memprediksinya secara akurat."
   ]
  },
  {
   "cell_type": "markdown",
   "id": "2",
   "metadata": {
    "id": "f4770493",
    "papermill": {
     "duration": 0.013856,
     "end_time": "2023-09-29T06:51:43.650813",
     "exception": false,
     "start_time": "2023-09-29T06:51:43.636957",
     "status": "completed"
    },
    "tags": []
   },
   "source": [
    "# Tinjauan Pustaka\n",
    "\n",
    "**Regresi linier** adalah teknik statistik yang digunakan untuk membentuk hubungan antara variabel dependen dan satu atau lebih variabel independen. Berikut adalah beberapa kelebihan dan kekurangan dari regresi linier:\n",
    "\n",
    "**Kelebihan:**\n",
    "\n",
    "* Mudah dipahami dan diimplementasikan.\n",
    "* Berguna untuk membuat prediksi dan meramalkan hasil di masa depan.\n",
    "* Memberikan ukuran kekuatan dan arah hubungan antara variabel dependen dan variabel independen.\n",
    "* Membantu mengidentifikasi variabel independen yang paling berpengaruh terhadap variabel dependen.\n",
    "* Memungkinkan analisis terhadap pengaruh beberapa variabel independen secara bersamaan terhadap variabel dependen.\n",
    "\n",
    "**Kekurangan:**\n",
    "\n",
    "* Mengasumsikan hubungan linier antara variabel dependen dan independen, yang tidak selalu sesuai dengan kenyataan.\n",
    "* Tidak dapat digunakan untuk menetapkan hubungan sebab-akibat antar variabel.\n",
    "* Rentan terhadap nilai pencilan (outlier), yang dapat memengaruhi hasil analisis secara signifikan.\n",
    "* Mengasumsikan independensi antar observasi, yang mungkin tidak terpenuhi dalam beberapa kasus.\n",
    "* Tidak dapat digunakan untuk menganalisis data non-numerik atau variabel kategorikal tanpa transformasi tertentu.\n"
   ]
  },
  {
   "cell_type": "markdown",
   "id": "3",
   "metadata": {
    "id": "edd98dda",
    "papermill": {
     "duration": 0.013879,
     "end_time": "2023-09-29T06:51:43.776342",
     "exception": false,
     "start_time": "2023-09-29T06:51:43.762463",
     "status": "completed"
    },
    "tags": []
   },
   "source": [
    "## Load data"
   ]
  },
  {
   "cell_type": "code",
   "execution_count": null,
   "id": "4",
   "metadata": {
    "colab": {
     "base_uri": "https://localhost:8080/"
    },
    "id": "eb61de25",
    "outputId": "9357cbfa-5779-4bc6-a363-e4e8cc2b621d",
    "papermill": {
     "duration": 0.665865,
     "end_time": "2023-09-29T06:51:44.457191",
     "exception": false,
     "start_time": "2023-09-29T06:51:43.791326",
     "status": "completed"
    },
    "tags": []
   },
   "outputs": [],
   "source": [
    "import pandas as pd\n",
    "\n",
    "df = pd.read_excel('DATA RUMAH TEBET.xlsx')\n",
    "df.info()"
   ]
  },
  {
   "cell_type": "markdown",
   "id": "5",
   "metadata": {
    "id": "22a03755",
    "papermill": {
     "duration": 0.01431,
     "end_time": "2023-09-29T06:51:44.486115",
     "exception": false,
     "start_time": "2023-09-29T06:51:44.471805",
     "status": "completed"
    },
    "tags": []
   },
   "source": [
    "- Explanation of each attribute:\n",
    "    1. Nama Rumah = House name\n",
    "    2. LB = Total Building Area\n",
    "    3. LT = Total Land Area\n",
    "    4. KT = Number of Bedrooms\n",
    "    5. KM = Number of Bathrooms\n",
    "    6. GRS = Number of Car Capacity in the Garage\n",
    "    7. Harga =  House prices (IDR)"
   ]
  },
  {
   "cell_type": "code",
   "execution_count": null,
   "id": "6",
   "metadata": {
    "colab": {
     "base_uri": "https://localhost:8080/"
    },
    "id": "dbfeeee3",
    "outputId": "02261f1a-e438-462d-c931-4995938afc7d",
    "papermill": {
     "duration": 0.024649,
     "end_time": "2023-09-29T06:51:44.525804",
     "exception": false,
     "start_time": "2023-09-29T06:51:44.501155",
     "status": "completed"
    },
    "tags": []
   },
   "outputs": [],
   "source": [
    "df.shape"
   ]
  },
  {
   "cell_type": "code",
   "execution_count": null,
   "id": "7",
   "metadata": {
    "colab": {
     "base_uri": "https://localhost:8080/",
     "height": 206
    },
    "id": "66095c2d",
    "outputId": "fd6f2370-6fab-41f6-dab7-247119041a6b",
    "papermill": {
     "duration": 0.040274,
     "end_time": "2023-09-29T06:51:44.582524",
     "exception": false,
     "start_time": "2023-09-29T06:51:44.542250",
     "status": "completed"
    },
    "tags": []
   },
   "outputs": [],
   "source": [
    "df.head()"
   ]
  },
  {
   "cell_type": "code",
   "execution_count": null,
   "id": "8",
   "metadata": {
    "colab": {
     "base_uri": "https://localhost:8080/",
     "height": 206
    },
    "id": "9ea4a9ac",
    "outputId": "128b6348-035e-4544-f940-276b9c346633",
    "papermill": {
     "duration": 0.030212,
     "end_time": "2023-09-29T06:51:44.626964",
     "exception": false,
     "start_time": "2023-09-29T06:51:44.596752",
     "status": "completed"
    },
    "tags": []
   },
   "outputs": [],
   "source": [
    "df = df.loc[:,['LB', 'LT', 'KT', 'KM', 'GRS', 'HARGA']]\n",
    "df.head()"
   ]
  },
  {
   "cell_type": "markdown",
   "id": "9",
   "metadata": {
    "id": "50eb1eba",
    "papermill": {
     "duration": 0.015243,
     "end_time": "2023-09-29T06:51:44.657001",
     "exception": false,
     "start_time": "2023-09-29T06:51:44.641758",
     "status": "completed"
    },
    "tags": []
   },
   "source": [
    "# **Exploratory Data Analysis & Preprocessing**"
   ]
  },
  {
   "cell_type": "markdown",
   "id": "10",
   "metadata": {
    "id": "04c37355",
    "papermill": {
     "duration": 0.014454,
     "end_time": "2023-09-29T06:51:44.687012",
     "exception": false,
     "start_time": "2023-09-29T06:51:44.672558",
     "status": "completed"
    },
    "tags": []
   },
   "source": [
    "### Data information\n",
    "statistical description of the mean, quartiles, standard deviation, etc"
   ]
  },
  {
   "cell_type": "code",
   "execution_count": null,
   "id": "11",
   "metadata": {
    "colab": {
     "base_uri": "https://localhost:8080/",
     "height": 300
    },
    "id": "c2cc10ae",
    "outputId": "7e42d541-bd69-4495-e5a1-85ffb38a7304",
    "papermill": {
     "duration": 0.047856,
     "end_time": "2023-09-29T06:51:44.749465",
     "exception": false,
     "start_time": "2023-09-29T06:51:44.701609",
     "status": "completed"
    },
    "tags": []
   },
   "outputs": [],
   "source": [
    "df.describe()"
   ]
  },
  {
   "cell_type": "markdown",
   "id": "12",
   "metadata": {
    "id": "b908957a",
    "papermill": {
     "duration": 0.015205,
     "end_time": "2023-09-29T06:51:44.779867",
     "exception": false,
     "start_time": "2023-09-29T06:51:44.764662",
     "status": "completed"
    },
    "tags": []
   },
   "source": [
    "### Identify outliers"
   ]
  },
  {
   "cell_type": "markdown",
   "id": "13",
   "metadata": {
    "id": "4588105d",
    "papermill": {
     "duration": 0.014053,
     "end_time": "2023-09-29T06:51:44.808493",
     "exception": false,
     "start_time": "2023-09-29T06:51:44.794440",
     "status": "completed"
    },
    "tags": []
   },
   "source": [
    "#### Identification of outlier attribute LB"
   ]
  },
  {
   "cell_type": "code",
   "execution_count": null,
   "id": "14",
   "metadata": {
    "colab": {
     "base_uri": "https://localhost:8080/",
     "height": 449
    },
    "id": "3188b30d",
    "outputId": "aede191c-8773-48ca-94d9-7b333919c1df",
    "papermill": {
     "duration": 1.359654,
     "end_time": "2023-09-29T06:51:46.182548",
     "exception": false,
     "start_time": "2023-09-29T06:51:44.822894",
     "status": "completed"
    },
    "tags": []
   },
   "outputs": [],
   "source": [
    "import seaborn as sns\n",
    "\n",
    "sns.boxplot(x='LB', data=df);"
   ]
  },
  {
   "cell_type": "markdown",
   "id": "15",
   "metadata": {
    "id": "c7671767",
    "papermill": {
     "duration": 0.014784,
     "end_time": "2023-09-29T06:51:46.212506",
     "exception": false,
     "start_time": "2023-09-29T06:51:46.197722",
     "status": "completed"
    },
    "tags": []
   },
   "source": [
    "Look for Q1, Q3, upper limit, lower limit, difference between Q3 and Q1 to find which data on the LB attribute are outliers"
   ]
  },
  {
   "cell_type": "code",
   "execution_count": null,
   "id": "16",
   "metadata": {
    "colab": {
     "base_uri": "https://localhost:8080/"
    },
    "id": "045f05e6",
    "outputId": "70c0f606-681c-4df9-d60b-5a2d995027c6",
    "papermill": {
     "duration": 0.027021,
     "end_time": "2023-09-29T06:51:46.254540",
     "exception": false,
     "start_time": "2023-09-29T06:51:46.227519",
     "status": "completed"
    },
    "tags": []
   },
   "outputs": [],
   "source": [
    "import numpy as np\n",
    "\n",
    "q11,q31=np.percentile(df['LB'], [25,75])\n",
    "s1 = q31-q11\n",
    "ba1 = q31+(1.5*s1)\n",
    "bw1 = q11-(1.5*s1)\n",
    "print(q11)\n",
    "print(q31)\n",
    "print(s1)\n",
    "print(ba1)\n",
    "print(bw1)"
   ]
  },
  {
   "cell_type": "code",
   "execution_count": null,
   "id": "17",
   "metadata": {
    "colab": {
     "base_uri": "https://localhost:8080/",
     "height": 206
    },
    "id": "fd7a3852",
    "outputId": "20f86edf-74e9-4729-d596-dbd569aacdef",
    "papermill": {
     "duration": 0.031456,
     "end_time": "2023-09-29T06:51:46.301130",
     "exception": false,
     "start_time": "2023-09-29T06:51:46.269674",
     "status": "completed"
    },
    "tags": []
   },
   "outputs": [],
   "source": [
    "# shows outlier data on the LB attribute\n",
    "dt1 = df[(df['LB']<bw1) | (df['LB']>ba1)]\n",
    "dt1.head()"
   ]
  },
  {
   "cell_type": "markdown",
   "id": "18",
   "metadata": {
    "id": "v5aSJmXvcBML"
   },
   "source": [
    "# **Identifikasi Outlier**"
   ]
  },
  {
   "cell_type": "markdown",
   "id": "19",
   "metadata": {
    "id": "913fa404",
    "papermill": {
     "duration": 0.015375,
     "end_time": "2023-09-29T06:51:46.331867",
     "exception": false,
     "start_time": "2023-09-29T06:51:46.316492",
     "status": "completed"
    },
    "tags": []
   },
   "source": [
    "#### Identification of outlier attribute LT"
   ]
  },
  {
   "cell_type": "code",
   "execution_count": null,
   "id": "20",
   "metadata": {
    "colab": {
     "base_uri": "https://localhost:8080/",
     "height": 449
    },
    "id": "b087ea7c",
    "outputId": "f1cb21e7-c35d-4dbe-b0c8-b6aa441bf709",
    "papermill": {
     "duration": 0.20851,
     "end_time": "2023-09-29T06:51:46.555547",
     "exception": false,
     "start_time": "2023-09-29T06:51:46.347037",
     "status": "completed"
    },
    "tags": []
   },
   "outputs": [],
   "source": [
    "sns.boxplot(x='LT', data=df);"
   ]
  },
  {
   "cell_type": "markdown",
   "id": "21",
   "metadata": {
    "id": "6894e315",
    "papermill": {
     "duration": 0.015355,
     "end_time": "2023-09-29T06:51:46.586874",
     "exception": false,
     "start_time": "2023-09-29T06:51:46.571519",
     "status": "completed"
    },
    "tags": []
   },
   "source": [
    "Look for Q1, Q3, upper limit, lower limit, difference between Q3 and Q1 to find which data on the LT attribute are outliers"
   ]
  },
  {
   "cell_type": "code",
   "execution_count": null,
   "id": "22",
   "metadata": {
    "colab": {
     "base_uri": "https://localhost:8080/"
    },
    "id": "dea88c78",
    "outputId": "988fa865-4e53-439c-e595-942d944c129c",
    "papermill": {
     "duration": 0.027646,
     "end_time": "2023-09-29T06:51:46.630057",
     "exception": false,
     "start_time": "2023-09-29T06:51:46.602411",
     "status": "completed"
    },
    "tags": []
   },
   "outputs": [],
   "source": [
    "q12,q32=np.percentile(df['LT'], [25,75])\n",
    "s2 = q32-q12\n",
    "ba2 = q32+(1.5*s2)\n",
    "bw2 = q12-(1.5*s2)\n",
    "print(q12)\n",
    "print(q32)\n",
    "print(s2)\n",
    "print(ba2)\n",
    "print(bw2)"
   ]
  },
  {
   "cell_type": "code",
   "execution_count": null,
   "id": "23",
   "metadata": {
    "colab": {
     "base_uri": "https://localhost:8080/",
     "height": 206
    },
    "id": "6f9bf3b3",
    "outputId": "3e9ca199-7a41-460f-801c-289c3a2bcbbd",
    "papermill": {
     "duration": 0.030885,
     "end_time": "2023-09-29T06:51:46.677533",
     "exception": false,
     "start_time": "2023-09-29T06:51:46.646648",
     "status": "completed"
    },
    "tags": []
   },
   "outputs": [],
   "source": [
    "# shows outlier data on the LT attribute\n",
    "dt2 = df[(df['LT']<bw2) | (df['LT']>ba2)]\n",
    "dt2.head()"
   ]
  },
  {
   "cell_type": "markdown",
   "id": "24",
   "metadata": {
    "id": "32d91ed0",
    "papermill": {
     "duration": 0.015216,
     "end_time": "2023-09-29T06:51:46.708333",
     "exception": false,
     "start_time": "2023-09-29T06:51:46.693117",
     "status": "completed"
    },
    "tags": []
   },
   "source": [
    "#### Identification of outlier attribute KT"
   ]
  },
  {
   "cell_type": "code",
   "execution_count": null,
   "id": "25",
   "metadata": {
    "colab": {
     "base_uri": "https://localhost:8080/",
     "height": 449
    },
    "id": "47922b70",
    "outputId": "4ffdff10-6ba6-4a5e-cbe1-07c198094088",
    "papermill": {
     "duration": 0.142976,
     "end_time": "2023-09-29T06:51:46.867081",
     "exception": false,
     "start_time": "2023-09-29T06:51:46.724105",
     "status": "completed"
    },
    "tags": []
   },
   "outputs": [],
   "source": [
    "sns.boxplot(x='KT', data=df);"
   ]
  },
  {
   "cell_type": "markdown",
   "id": "26",
   "metadata": {
    "id": "59089828",
    "papermill": {
     "duration": 0.016122,
     "end_time": "2023-09-29T06:51:46.915503",
     "exception": false,
     "start_time": "2023-09-29T06:51:46.899381",
     "status": "completed"
    },
    "tags": []
   },
   "source": [
    "Look for Q1, Q3, upper limit, lower limit, difference between Q3 and Q1 to find which data on the KT attribute are outliers"
   ]
  },
  {
   "cell_type": "code",
   "execution_count": null,
   "id": "27",
   "metadata": {
    "colab": {
     "base_uri": "https://localhost:8080/"
    },
    "id": "4e76d91d",
    "outputId": "cebc9237-83f0-4b45-c548-69ecdf8c1935",
    "papermill": {
     "duration": 0.025902,
     "end_time": "2023-09-29T06:51:46.957854",
     "exception": false,
     "start_time": "2023-09-29T06:51:46.931952",
     "status": "completed"
    },
    "tags": []
   },
   "outputs": [],
   "source": [
    "q13,q33=np.percentile(df['KT'], [25,75])\n",
    "s3 = q33-q13\n",
    "ba3 = q33+(1.5*s3)\n",
    "bw3 = q13-(1.5*s3)\n",
    "print(q13)\n",
    "print(q33)\n",
    "print(s3)\n",
    "print(ba3)\n",
    "print(bw3)"
   ]
  },
  {
   "cell_type": "code",
   "execution_count": null,
   "id": "28",
   "metadata": {
    "colab": {
     "base_uri": "https://localhost:8080/",
     "height": 206
    },
    "id": "6f1345f6",
    "outputId": "9aa1b2d6-1a96-4e59-9c2a-f6f6074935b5",
    "papermill": {
     "duration": 0.040128,
     "end_time": "2023-09-29T06:51:47.020730",
     "exception": false,
     "start_time": "2023-09-29T06:51:46.980602",
     "status": "completed"
    },
    "tags": []
   },
   "outputs": [],
   "source": [
    "# shows outlier data on the KT attribute\n",
    "dt3 = df[(df['KT']<bw3) | (df['KT']>ba3)]\n",
    "dt3.head()"
   ]
  },
  {
   "cell_type": "markdown",
   "id": "29",
   "metadata": {
    "id": "8ceaa3bd",
    "papermill": {
     "duration": 0.015648,
     "end_time": "2023-09-29T06:51:47.052896",
     "exception": false,
     "start_time": "2023-09-29T06:51:47.037248",
     "status": "completed"
    },
    "tags": []
   },
   "source": [
    "#### Identification of outlier attribute KM"
   ]
  },
  {
   "cell_type": "markdown",
   "id": "30",
   "metadata": {
    "id": "421dcd57",
    "papermill": {
     "duration": 0.015771,
     "end_time": "2023-09-29T06:51:47.084636",
     "exception": false,
     "start_time": "2023-09-29T06:51:47.068865",
     "status": "completed"
    },
    "tags": []
   },
   "source": [
    "Look for Q1, Q3, upper limit, lower limit, difference between Q3 and Q1 to find which data on the KM attribute are outliers"
   ]
  },
  {
   "cell_type": "code",
   "execution_count": null,
   "id": "31",
   "metadata": {
    "colab": {
     "base_uri": "https://localhost:8080/",
     "height": 449
    },
    "id": "aec23101",
    "outputId": "defce01b-b856-4eee-f7e1-418a5c8378ac",
    "papermill": {
     "duration": 0.190507,
     "end_time": "2023-09-29T06:51:47.291088",
     "exception": false,
     "start_time": "2023-09-29T06:51:47.100581",
     "status": "completed"
    },
    "tags": []
   },
   "outputs": [],
   "source": [
    "sns.boxplot(x='KM', data=df);"
   ]
  },
  {
   "cell_type": "code",
   "execution_count": null,
   "id": "32",
   "metadata": {
    "colab": {
     "base_uri": "https://localhost:8080/"
    },
    "id": "1c389f91",
    "outputId": "71af15d9-4e76-4a27-de08-b8c22e5ac667",
    "papermill": {
     "duration": 0.028425,
     "end_time": "2023-09-29T06:51:47.336055",
     "exception": false,
     "start_time": "2023-09-29T06:51:47.307630",
     "status": "completed"
    },
    "tags": []
   },
   "outputs": [],
   "source": [
    "q14,q34=np.percentile(df['KM'], [25,75])\n",
    "s4 = q34-q14\n",
    "ba4 = q34+(1.5*s4)\n",
    "bw4 = q14-(1.5*s4)\n",
    "print(q14)\n",
    "print(q34)\n",
    "print(s4)\n",
    "print(ba4)\n",
    "print(bw4)"
   ]
  },
  {
   "cell_type": "code",
   "execution_count": null,
   "id": "33",
   "metadata": {
    "colab": {
     "base_uri": "https://localhost:8080/",
     "height": 206
    },
    "id": "1d2ba13e",
    "outputId": "fb669c8a-6db1-459f-a5c2-d58dab35d834",
    "papermill": {
     "duration": 0.033423,
     "end_time": "2023-09-29T06:51:47.386360",
     "exception": false,
     "start_time": "2023-09-29T06:51:47.352937",
     "status": "completed"
    },
    "tags": []
   },
   "outputs": [],
   "source": [
    "# shows outlier data on the KM attribute\n",
    "dt4 = df[(df['KM']<bw4) | (df['KM']>ba4)]\n",
    "dt4.head()"
   ]
  },
  {
   "cell_type": "markdown",
   "id": "34",
   "metadata": {
    "id": "aab3b92a",
    "papermill": {
     "duration": 0.016315,
     "end_time": "2023-09-29T06:51:47.419320",
     "exception": false,
     "start_time": "2023-09-29T06:51:47.403005",
     "status": "completed"
    },
    "tags": []
   },
   "source": [
    "#### Identification of outlier attribute GRS"
   ]
  },
  {
   "cell_type": "code",
   "execution_count": null,
   "id": "35",
   "metadata": {
    "colab": {
     "base_uri": "https://localhost:8080/",
     "height": 466
    },
    "id": "29c79960",
    "outputId": "ace2aaf5-e068-45f1-c732-86cd9f61b10b",
    "papermill": {
     "duration": 0.207462,
     "end_time": "2023-09-29T06:51:47.644374",
     "exception": false,
     "start_time": "2023-09-29T06:51:47.436912",
     "status": "completed"
    },
    "tags": []
   },
   "outputs": [],
   "source": [
    "sns.boxplot(x='GRS', data=df)"
   ]
  },
  {
   "cell_type": "markdown",
   "id": "36",
   "metadata": {
    "id": "9dab271c",
    "papermill": {
     "duration": 0.01824,
     "end_time": "2023-09-29T06:51:47.684206",
     "exception": false,
     "start_time": "2023-09-29T06:51:47.665966",
     "status": "completed"
    },
    "tags": []
   },
   "source": [
    "Look for Q1, Q3, upper limit, lower limit, difference between Q3 and Q1 to find which data on the GRS attribute are outliers"
   ]
  },
  {
   "cell_type": "code",
   "execution_count": null,
   "id": "37",
   "metadata": {
    "colab": {
     "base_uri": "https://localhost:8080/"
    },
    "id": "fd4730d4",
    "outputId": "688344f1-aaf5-479c-989d-1b279d5de8a7",
    "papermill": {
     "duration": 0.034766,
     "end_time": "2023-09-29T06:51:47.737688",
     "exception": false,
     "start_time": "2023-09-29T06:51:47.702922",
     "status": "completed"
    },
    "tags": []
   },
   "outputs": [],
   "source": [
    "q15,q35=np.percentile(df['GRS'], [25,75])\n",
    "s5 = q35-q15\n",
    "ba5 = q35+(1.5*s5)\n",
    "bw5 = q15-(1.5*s5)\n",
    "print(q15)\n",
    "print(q35)\n",
    "print(s5)\n",
    "print(ba5)\n",
    "print(bw5)"
   ]
  },
  {
   "cell_type": "code",
   "execution_count": null,
   "id": "38",
   "metadata": {
    "colab": {
     "base_uri": "https://localhost:8080/",
     "height": 206
    },
    "id": "2e68f991",
    "outputId": "239e4729-ed7d-4229-c6d4-c5d5759af45c",
    "papermill": {
     "duration": 0.033347,
     "end_time": "2023-09-29T06:51:47.787846",
     "exception": false,
     "start_time": "2023-09-29T06:51:47.754499",
     "status": "completed"
    },
    "tags": []
   },
   "outputs": [],
   "source": [
    "# shows outlier data on the GRS attribute\n",
    "dt5 = df[(df['GRS']<bw5) | (df['GRS']>ba5)]\n",
    "dt5.head()"
   ]
  },
  {
   "cell_type": "markdown",
   "id": "39",
   "metadata": {
    "id": "27f0ea6e",
    "papermill": {
     "duration": 0.016574,
     "end_time": "2023-09-29T06:51:47.821501",
     "exception": false,
     "start_time": "2023-09-29T06:51:47.804927",
     "status": "completed"
    },
    "tags": []
   },
   "source": [
    "#### Identification of outlier attribute Harga"
   ]
  },
  {
   "cell_type": "code",
   "execution_count": null,
   "id": "40",
   "metadata": {
    "colab": {
     "base_uri": "https://localhost:8080/",
     "height": 449
    },
    "id": "3503c8c1",
    "outputId": "ca7da3ec-17df-4dff-ed74-d7b5f5600395",
    "papermill": {
     "duration": 0.205579,
     "end_time": "2023-09-29T06:51:48.043906",
     "exception": false,
     "start_time": "2023-09-29T06:51:47.838327",
     "status": "completed"
    },
    "tags": []
   },
   "outputs": [],
   "source": [
    "sns.boxplot(x='HARGA', data=df);"
   ]
  },
  {
   "cell_type": "markdown",
   "id": "41",
   "metadata": {
    "id": "a32f5360",
    "papermill": {
     "duration": 0.01687,
     "end_time": "2023-09-29T06:51:48.078081",
     "exception": false,
     "start_time": "2023-09-29T06:51:48.061211",
     "status": "completed"
    },
    "tags": []
   },
   "source": [
    "Look for Q1, Q3, upper limit, lower limit, difference between Q3 and Q1 to find which data on the Harga attribute are outliers"
   ]
  },
  {
   "cell_type": "code",
   "execution_count": null,
   "id": "42",
   "metadata": {
    "colab": {
     "base_uri": "https://localhost:8080/"
    },
    "id": "f9d0e11b",
    "outputId": "9e21af93-fee3-4ea9-e66a-3d3eb3f8842b",
    "papermill": {
     "duration": 0.027538,
     "end_time": "2023-09-29T06:51:48.122500",
     "exception": false,
     "start_time": "2023-09-29T06:51:48.094962",
     "status": "completed"
    },
    "tags": []
   },
   "outputs": [],
   "source": [
    "q16,q36=np.percentile(df['HARGA'], [25,75])\n",
    "s6 = q36-q16\n",
    "ba6 = q36+(1.5*s6)\n",
    "bw6 = q16-(1.5*s6)\n",
    "print(q16)\n",
    "print(q36)\n",
    "print(s6)\n",
    "print(ba6)\n",
    "print(bw6)"
   ]
  },
  {
   "cell_type": "code",
   "execution_count": null,
   "id": "43",
   "metadata": {
    "colab": {
     "base_uri": "https://localhost:8080/",
     "height": 206
    },
    "id": "3089c6e8",
    "outputId": "444188d8-2453-4ba4-de2d-57c88da3c2ca",
    "papermill": {
     "duration": 0.033787,
     "end_time": "2023-09-29T06:51:48.173556",
     "exception": false,
     "start_time": "2023-09-29T06:51:48.139769",
     "status": "completed"
    },
    "tags": []
   },
   "outputs": [],
   "source": [
    "# shows outlier data on the Harga attribute\n",
    "dt6 = df[(df['HARGA']<bw6) | (df['HARGA']>ba6)]\n",
    "dt6.head()"
   ]
  },
  {
   "cell_type": "markdown",
   "id": "44",
   "metadata": {
    "id": "587430ee",
    "papermill": {
     "duration": 0.017393,
     "end_time": "2023-09-29T06:51:48.209173",
     "exception": false,
     "start_time": "2023-09-29T06:51:48.191780",
     "status": "completed"
    },
    "tags": []
   },
   "source": [
    "### Data distribution"
   ]
  },
  {
   "cell_type": "markdown",
   "id": "45",
   "metadata": {
    "id": "2c019106",
    "papermill": {
     "duration": 0.017864,
     "end_time": "2023-09-29T06:51:48.244382",
     "exception": false,
     "start_time": "2023-09-29T06:51:48.226518",
     "status": "completed"
    },
    "tags": []
   },
   "source": [
    "#### Distribution of data from attribute LB"
   ]
  },
  {
   "cell_type": "code",
   "execution_count": null,
   "id": "46",
   "metadata": {
    "colab": {
     "base_uri": "https://localhost:8080/",
     "height": 368
    },
    "id": "c3d885fb",
    "outputId": "c396237c-4a82-4acb-ea69-83ad95a9d539",
    "papermill": {
     "duration": 0.381472,
     "end_time": "2023-09-29T06:51:48.643269",
     "exception": false,
     "start_time": "2023-09-29T06:51:48.261797",
     "status": "completed"
    },
    "tags": []
   },
   "outputs": [],
   "source": [
    "import matplotlib.pyplot as plt\n",
    "\n",
    "f = plt.figure(figsize=(12,4))\n",
    "\n",
    "f.add_subplot(1,2,1)\n",
    "df['LB'].plot(kind='kde')\n",
    "\n",
    "f.add_subplot(1,2,2 )\n",
    "plt.boxplot(df['LB'])\n",
    "\n",
    "plt.show()"
   ]
  },
  {
   "cell_type": "markdown",
   "id": "47",
   "metadata": {
    "id": "ab720b9a",
    "papermill": {
     "duration": 0.018601,
     "end_time": "2023-09-29T06:51:48.681238",
     "exception": false,
     "start_time": "2023-09-29T06:51:48.662637",
     "status": "completed"
    },
    "tags": []
   },
   "source": [
    "- Shows that most of the Building Area is at 200\n",
    "- Data has many outliers"
   ]
  },
  {
   "cell_type": "markdown",
   "id": "48",
   "metadata": {
    "id": "f494240b",
    "papermill": {
     "duration": 0.017891,
     "end_time": "2023-09-29T06:51:48.717010",
     "exception": false,
     "start_time": "2023-09-29T06:51:48.699119",
     "status": "completed"
    },
    "tags": []
   },
   "source": [
    "#### Distribution of data from attribute LT"
   ]
  },
  {
   "cell_type": "code",
   "execution_count": null,
   "id": "49",
   "metadata": {
    "colab": {
     "base_uri": "https://localhost:8080/",
     "height": 368
    },
    "id": "f206f1ab",
    "outputId": "01dca1f7-b1ac-466e-a86b-374324e3cd2d",
    "papermill": {
     "duration": 0.31767,
     "end_time": "2023-09-29T06:51:49.052612",
     "exception": false,
     "start_time": "2023-09-29T06:51:48.734942",
     "status": "completed"
    },
    "tags": []
   },
   "outputs": [],
   "source": [
    "f = plt.figure(figsize=(12,4))\n",
    "\n",
    "f.add_subplot(1,2,1)\n",
    "df['LT'].plot(kind='kde')\n",
    "\n",
    "f.add_subplot(1,2,2)\n",
    "plt.boxplot(df['LT'])\n",
    "\n",
    "plt.show()"
   ]
  },
  {
   "cell_type": "markdown",
   "id": "50",
   "metadata": {
    "id": "09d2d4b8",
    "papermill": {
     "duration": 0.018136,
     "end_time": "2023-09-29T06:51:49.089688",
     "exception": false,
     "start_time": "2023-09-29T06:51:49.071552",
     "status": "completed"
    },
    "tags": []
   },
   "source": [
    "- shows that most of the Land Area is in the number 200\n",
    "- Data has many outliers"
   ]
  },
  {
   "cell_type": "markdown",
   "id": "51",
   "metadata": {
    "id": "3fd6055b",
    "papermill": {
     "duration": 0.018656,
     "end_time": "2023-09-29T06:51:49.126933",
     "exception": false,
     "start_time": "2023-09-29T06:51:49.108277",
     "status": "completed"
    },
    "tags": []
   },
   "source": [
    "#### Distribution of data from attribute KT"
   ]
  },
  {
   "cell_type": "code",
   "execution_count": null,
   "id": "52",
   "metadata": {
    "colab": {
     "base_uri": "https://localhost:8080/",
     "height": 388
    },
    "id": "71fa984f",
    "outputId": "2aed4e13-0987-4a55-8fd3-dabe418a0af1",
    "papermill": {
     "duration": 0.459299,
     "end_time": "2023-09-29T06:51:49.605006",
     "exception": false,
     "start_time": "2023-09-29T06:51:49.145707",
     "status": "completed"
    },
    "tags": []
   },
   "outputs": [],
   "source": [
    "f = plt.figure(figsize=(12,4))\n",
    "\n",
    "f.add_subplot(1,2,1)\n",
    "sns.countplot(x=df['KT'])\n",
    "\n",
    "f.add_subplot(1,2,2)\n",
    "plt.boxplot(df['KT'])\n",
    "\n",
    "plt.show()"
   ]
  },
  {
   "cell_type": "markdown",
   "id": "53",
   "metadata": {
    "id": "820f4357",
    "papermill": {
     "duration": 0.018977,
     "end_time": "2023-09-29T06:51:49.643232",
     "exception": false,
     "start_time": "2023-09-29T06:51:49.624255",
     "status": "completed"
    },
    "tags": []
   },
   "source": [
    "- Shows that most of the Number of Bedrooms is 4 and 5\n",
    "- Data has few outliers"
   ]
  },
  {
   "cell_type": "markdown",
   "id": "54",
   "metadata": {
    "id": "d3845285",
    "papermill": {
     "duration": 0.019207,
     "end_time": "2023-09-29T06:51:49.681412",
     "exception": false,
     "start_time": "2023-09-29T06:51:49.662205",
     "status": "completed"
    },
    "tags": []
   },
   "source": [
    "#### Distribution of data from attribute KM"
   ]
  },
  {
   "cell_type": "code",
   "execution_count": null,
   "id": "55",
   "metadata": {
    "colab": {
     "base_uri": "https://localhost:8080/",
     "height": 388
    },
    "id": "d427931a",
    "outputId": "b8adf5b3-7113-47a7-8130-8feccec6e1a7",
    "papermill": {
     "duration": 0.317636,
     "end_time": "2023-09-29T06:51:50.018557",
     "exception": false,
     "start_time": "2023-09-29T06:51:49.700921",
     "status": "completed"
    },
    "tags": []
   },
   "outputs": [],
   "source": [
    "f = plt.figure(figsize=(12,4))\n",
    "\n",
    "f.add_subplot(1,2,1)\n",
    "sns.countplot(x=df['KM'])\n",
    "\n",
    "f.add_subplot(1,2,2)\n",
    "plt.boxplot(df['KM'])\n",
    "\n",
    "plt.show()"
   ]
  },
  {
   "cell_type": "markdown",
   "id": "56",
   "metadata": {
    "id": "f9189b79",
    "papermill": {
     "duration": 0.019155,
     "end_time": "2023-09-29T06:51:50.057777",
     "exception": false,
     "start_time": "2023-09-29T06:51:50.038622",
     "status": "completed"
    },
    "tags": []
   },
   "source": [
    "- Shows that most of the Number of Bathrooms is 4 and 5\n",
    "- Data has few outliers"
   ]
  },
  {
   "cell_type": "markdown",
   "id": "57",
   "metadata": {
    "id": "5287c93e",
    "papermill": {
     "duration": 0.019104,
     "end_time": "2023-09-29T06:51:50.096413",
     "exception": false,
     "start_time": "2023-09-29T06:51:50.077309",
     "status": "completed"
    },
    "tags": []
   },
   "source": [
    "#### Distribution of data from attribute GRS"
   ]
  },
  {
   "cell_type": "code",
   "execution_count": null,
   "id": "58",
   "metadata": {
    "colab": {
     "base_uri": "https://localhost:8080/",
     "height": 388
    },
    "id": "0f252076",
    "outputId": "2bcc6d9b-f49c-49bd-d979-796225caaeeb",
    "papermill": {
     "duration": 0.332881,
     "end_time": "2023-09-29T06:51:50.448712",
     "exception": false,
     "start_time": "2023-09-29T06:51:50.115831",
     "status": "completed"
    },
    "tags": []
   },
   "outputs": [],
   "source": [
    "f = plt.figure(figsize=(12,4))\n",
    "\n",
    "f.add_subplot(1,2,1)\n",
    "sns.countplot(x=df['GRS'])\n",
    "\n",
    "f.add_subplot(1,2,2)\n",
    "plt.boxplot(df['GRS'])\n",
    "\n",
    "plt.show();"
   ]
  },
  {
   "cell_type": "markdown",
   "id": "59",
   "metadata": {
    "id": "73a091b5",
    "papermill": {
     "duration": 0.019888,
     "end_time": "2023-09-29T06:51:50.488989",
     "exception": false,
     "start_time": "2023-09-29T06:51:50.469101",
     "status": "completed"
    },
    "tags": []
   },
   "source": [
    "- Shows that most of the Total Garage Capacity is 1 and 2 cars\n",
    "- Data has few outliers"
   ]
  },
  {
   "cell_type": "markdown",
   "id": "60",
   "metadata": {
    "id": "e7fc7da7",
    "papermill": {
     "duration": 0.020314,
     "end_time": "2023-09-29T06:51:50.530876",
     "exception": false,
     "start_time": "2023-09-29T06:51:50.510562",
     "status": "completed"
    },
    "tags": []
   },
   "source": [
    "#### Distribution of data from attribute Harga"
   ]
  },
  {
   "cell_type": "code",
   "execution_count": null,
   "id": "61",
   "metadata": {
    "colab": {
     "base_uri": "https://localhost:8080/",
     "height": 402
    },
    "id": "e63bc794",
    "outputId": "1196bb97-4337-4424-a717-ce5025ca074d",
    "papermill": {
     "duration": 0.326801,
     "end_time": "2023-09-29T06:51:50.878102",
     "exception": false,
     "start_time": "2023-09-29T06:51:50.551301",
     "status": "completed"
    },
    "tags": []
   },
   "outputs": [],
   "source": [
    "f = plt.figure(figsize=(12,4))\n",
    "\n",
    "f.add_subplot(1,2,1)\n",
    "df['HARGA'].plot(kind='kde')\n",
    "\n",
    "f.add_subplot(1,2,2)\n",
    "plt.boxplot(df['HARGA'])\n",
    "\n",
    "plt.show()"
   ]
  },
  {
   "cell_type": "markdown",
   "id": "62",
   "metadata": {
    "id": "127b0380",
    "papermill": {
     "duration": 0.020768,
     "end_time": "2023-09-29T06:51:50.919647",
     "exception": false,
     "start_time": "2023-09-29T06:51:50.898879",
     "status": "completed"
    },
    "tags": []
   },
   "source": [
    "### Correlation between independent and dependent variable"
   ]
  },
  {
   "cell_type": "code",
   "execution_count": null,
   "id": "63",
   "metadata": {
    "colab": {
     "base_uri": "https://localhost:8080/",
     "height": 427
    },
    "id": "2cc84217",
    "outputId": "8fa1e1de-65a8-49e5-dc92-efa54227df87",
    "papermill": {
     "duration": 0.929694,
     "end_time": "2023-09-29T06:51:51.870199",
     "exception": false,
     "start_time": "2023-09-29T06:51:50.940505",
     "status": "completed"
    },
    "tags": []
   },
   "outputs": [],
   "source": [
    "# Bivariate analysis between independent variables and dependent variables\n",
    "plt.figure(figsize=(10,8))\n",
    "sns.pairplot(data=df, x_vars=['LT', 'LB', 'KM', 'KT', 'GRS'], y_vars=['HARGA'], height=5, aspect=0.75)"
   ]
  },
  {
   "cell_type": "code",
   "execution_count": null,
   "id": "64",
   "metadata": {
    "colab": {
     "base_uri": "https://localhost:8080/",
     "height": 237
    },
    "id": "536dc469",
    "outputId": "fba2120d-457b-4804-d6a2-02ffc96e48bb",
    "papermill": {
     "duration": 0.117724,
     "end_time": "2023-09-29T06:51:52.011072",
     "exception": false,
     "start_time": "2023-09-29T06:51:51.893348",
     "status": "completed"
    },
    "tags": []
   },
   "outputs": [],
   "source": [
    "# correlation of independent variable and dependent variable\n",
    "df.corr().style.background_gradient().format(precision=1)"
   ]
  },
  {
   "cell_type": "markdown",
   "id": "65",
   "metadata": {
    "id": "3f5c3316",
    "papermill": {
     "duration": 0.022643,
     "end_time": "2023-09-29T06:51:52.060060",
     "exception": false,
     "start_time": "2023-09-29T06:51:52.037417",
     "status": "completed"
    },
    "tags": []
   },
   "source": [
    "## **Uji Statistika**"
   ]
  },
  {
   "cell_type": "code",
   "execution_count": null,
   "id": "66",
   "metadata": {
    "id": "75db0c34",
    "papermill": {
     "duration": 0.030829,
     "end_time": "2023-09-29T06:51:52.113267",
     "exception": false,
     "start_time": "2023-09-29T06:51:52.082438",
     "status": "completed"
    },
    "tags": []
   },
   "outputs": [],
   "source": [
    "x = df.drop(columns=['HARGA'])\n",
    "y = df['HARGA']"
   ]
  },
  {
   "cell_type": "code",
   "execution_count": null,
   "id": "67",
   "metadata": {
    "colab": {
     "base_uri": "https://localhost:8080/",
     "height": 532
    },
    "id": "b469afbc",
    "outputId": "e5d38bb9-a191-45bf-dcd0-447fc615a242",
    "papermill": {
     "duration": 1.557962,
     "end_time": "2023-09-29T06:51:53.693757",
     "exception": false,
     "start_time": "2023-09-29T06:51:52.135795",
     "status": "completed"
    },
    "tags": []
   },
   "outputs": [],
   "source": [
    "import statsmodels.api as sm\n",
    "\n",
    "model=sm.OLS(y,x).fit()\n",
    "predictions=model.predict(x)\n",
    "model.summary()"
   ]
  },
  {
   "cell_type": "code",
   "execution_count": null,
   "id": "68",
   "metadata": {
    "colab": {
     "base_uri": "https://localhost:8080/",
     "height": 571
    },
    "id": "3a75c65d",
    "outputId": "0b5730ab-6933-44a5-ecb8-765003333eaf",
    "papermill": {
     "duration": 0.048214,
     "end_time": "2023-09-29T06:51:53.764826",
     "exception": false,
     "start_time": "2023-09-29T06:51:53.716612",
     "status": "completed"
    },
    "tags": []
   },
   "outputs": [],
   "source": [
    "# adding a constant variable\n",
    "X=sm.add_constant(x)\n",
    "model=sm.OLS(y,X).fit()\n",
    "model.summary()"
   ]
  },
  {
   "cell_type": "markdown",
   "id": "69",
   "metadata": {
    "id": "1a70b502",
    "papermill": {
     "duration": 0.022631,
     "end_time": "2023-09-29T06:51:53.810671",
     "exception": false,
     "start_time": "2023-09-29T06:51:53.788040",
     "status": "completed"
    },
    "tags": []
   },
   "source": [
    "### Normality test"
   ]
  },
  {
   "cell_type": "markdown",
   "id": "70",
   "metadata": {
    "id": "44257501",
    "papermill": {
     "duration": 0.022518,
     "end_time": "2023-09-29T06:51:53.856180",
     "exception": false,
     "start_time": "2023-09-29T06:51:53.833662",
     "status": "completed"
    },
    "tags": []
   },
   "source": [
    "In the normality test we use the Prob Jarque Bera (JB) value from the above test of 0.00. With the following hypothesis:\n",
    "\n",
    "- Determine the Hypothesis\n",
    "     - H0 : Residuals are normally distributed\n",
    "     - H1 : Residuals are not normally distributed\n",
    "- Significance level\n",
    "     - ∝=5% (∝=0.05)\n",
    "- Test Statistics\n",
    "     - p-value = 0.00\n",
    "- Critical area\n",
    "     - Reject H0 if p-value < α\n",
    "- Decision\n",
    "     - Because the p-value is equal to 0.00, where the p-value < α is 0.00 < 0.05, then reject H0.\n",
    "- Conclusion\n",
    "     - In this dataset the data is not normally distributed"
   ]
  },
  {
   "cell_type": "markdown",
   "id": "71",
   "metadata": {
    "id": "237b3a34",
    "papermill": {
     "duration": 0.023215,
     "end_time": "2023-09-29T06:51:53.902473",
     "exception": false,
     "start_time": "2023-09-29T06:51:53.879258",
     "status": "completed"
    },
    "tags": []
   },
   "source": [
    "### Multicollinearity test"
   ]
  },
  {
   "cell_type": "code",
   "execution_count": null,
   "id": "72",
   "metadata": {
    "colab": {
     "base_uri": "https://localhost:8080/"
    },
    "id": "688d306a",
    "outputId": "a6249ccf-7d72-4e85-a760-89afc88dcdeb",
    "papermill": {
     "duration": 0.06474,
     "end_time": "2023-09-29T06:51:53.990116",
     "exception": false,
     "start_time": "2023-09-29T06:51:53.925376",
     "status": "completed"
    },
    "tags": []
   },
   "outputs": [],
   "source": [
    "from patsy import dmatrices\n",
    "import statsmodels.formula.api as smf\n",
    "from statsmodels.stats.outliers_influence import variance_inflation_factor\n",
    "\n",
    "lm = smf.ols(formula = \"HARGA~LB+LT+KT+KM+GRS\", data = df).fit()\n",
    "Y,X = dmatrices (\"HARGA~LB+LT+KT+KM+GRS\", data = df, return_type =\"dataframe\")\n",
    "vif = [variance_inflation_factor(X.values, i) for i in range (X.shape[1])]\n",
    "print(vif)"
   ]
  },
  {
   "cell_type": "markdown",
   "id": "73",
   "metadata": {
    "id": "a53a7271",
    "papermill": {
     "duration": 0.022999,
     "end_time": "2023-09-29T06:51:54.036192",
     "exception": false,
     "start_time": "2023-09-29T06:51:54.013193",
     "status": "completed"
    },
    "tags": []
   },
   "source": [
    "Multicollinearity test to show whether there is a correlation between the independent variables in multiple linear regression.\n",
    "- Determine the Hypothesis\n",
    "     - H0 : VIF < 10 means there is no multicollinearity.\n",
    "     - H1 : VIF > 10 means that there is multicollinearity.\n",
    "- Significance level\n",
    "     - ∝=5% (∝=0.05)\n",
    "- Test Statistics\n",
    "     - VIF :\n",
    "     - Constant = 10,500\n",
    "     -LB = 2,690\n",
    "     - LT = 2,410\n",
    "     - KT = 1,928\n",
    "     - Miles = 2,122\n",
    "     - GRS = 2,122\n",
    "- Critical Area\n",
    "     - Reject H0 if VIF > ∝\n",
    "- Decision\n",
    "     - Because the VIF value (LB = 2,690, LT = 2,410, KT = 1,928, KM = 2,122, and GRS = 2,122) < α then fails to Reject H0\n",
    "- Conclusion\n",
    "     - So, the data set does not have multicollinearity"
   ]
  },
  {
   "cell_type": "markdown",
   "id": "74",
   "metadata": {
    "id": "d54aa528",
    "papermill": {
     "duration": 0.022944,
     "end_time": "2023-09-29T06:51:54.082752",
     "exception": false,
     "start_time": "2023-09-29T06:51:54.059808",
     "status": "completed"
    },
    "tags": []
   },
   "source": [
    "### Heteroscedasticity test"
   ]
  },
  {
   "cell_type": "code",
   "execution_count": null,
   "id": "75",
   "metadata": {
    "colab": {
     "base_uri": "https://localhost:8080/",
     "height": 480
    },
    "id": "f8c92518",
    "outputId": "bdaeb37e-41c3-4ac5-e4c6-f7f1152e751b",
    "papermill": {
     "duration": 0.26428,
     "end_time": "2023-09-29T06:51:54.370167",
     "exception": false,
     "start_time": "2023-09-29T06:51:54.105887",
     "status": "completed"
    },
    "tags": []
   },
   "outputs": [],
   "source": [
    "lm=smf.ols(formula=\"HARGA~LB+LT+KT+KM+GRS\",data=df).fit()\n",
    "lm\n",
    "resid=lm.resid\n",
    "plt.scatter(lm.predict(),resid)"
   ]
  },
  {
   "cell_type": "code",
   "execution_count": null,
   "id": "76",
   "metadata": {
    "colab": {
     "base_uri": "https://localhost:8080/"
    },
    "id": "fc7683f5",
    "outputId": "2f17a016-02e0-4075-d938-9124862bb3dc",
    "papermill": {
     "duration": 0.043616,
     "end_time": "2023-09-29T06:51:54.438005",
     "exception": false,
     "start_time": "2023-09-29T06:51:54.394389",
     "status": "completed"
    },
    "tags": []
   },
   "outputs": [],
   "source": [
    "import statsmodels.stats as stats\n",
    "\n",
    "stats.diagnostic.het_white(resid, lm.model.exog)"
   ]
  },
  {
   "cell_type": "markdown",
   "id": "77",
   "metadata": {
    "id": "19a65523",
    "papermill": {
     "duration": 0.063327,
     "end_time": "2023-09-29T06:51:54.554063",
     "exception": false,
     "start_time": "2023-09-29T06:51:54.490736",
     "status": "completed"
    },
    "tags": []
   },
   "source": [
    "Based on the results of the heteroscedasticity test, it can be seen that the dots have no clear shape. And the scatter points above and below the number 0 on the Y axis. So it can be concluded that there is no heteroscedasticity problem in the regression model."
   ]
  },
  {
   "cell_type": "markdown",
   "id": "78",
   "metadata": {
    "id": "e72d41b8",
    "papermill": {
     "duration": 0.023139,
     "end_time": "2023-09-29T06:51:54.600926",
     "exception": false,
     "start_time": "2023-09-29T06:51:54.577787",
     "status": "completed"
    },
    "tags": []
   },
   "source": [
    "## Partial test"
   ]
  },
  {
   "cell_type": "markdown",
   "id": "79",
   "metadata": {
    "id": "2be7dbc3",
    "papermill": {
     "duration": 0.023405,
     "end_time": "2023-09-29T06:51:54.648627",
     "exception": false,
     "start_time": "2023-09-29T06:51:54.625222",
     "status": "completed"
    },
    "tags": []
   },
   "source": [
    "Partial test is used to determine whether the independent variable (X) has a significant (real) impact on the dependent variable (Y). From the data above, the p-value (Constant) is 0.064, the value (LB) is 0.000, the value (LT) is 0.000, the value (KT) is 0.000, the value (KM) is 0.000, and the value (GRS) is 0.001.\n",
    "Here's the hypothesis:\n",
    "- Hypothesis\n",
    "     - H0 : βi = 0, i = 0,1,2 (There is no significant effect between X and Y)\n",
    "     - H1 : βi ≠ 0, i = 0,1,2 (There is a significant effect between X and Y)\n",
    "- Significance level\n",
    "     - ∝=5% = 0.05\n",
    "- Critical area\n",
    "     - If p-value ≤ ∝ (0.05) → Reject H0\n",
    "     - P-value : = 0.001 and = 0.000 ; ∝= 0.05\n",
    "- Decision\n",
    "     - Because the p-value for β1, β2, β3, β4, β5 < ∝ then reject\n",
    "- Conclusion\n",
    "     - In the dataset there is a significant influence between variable X (LB, LT, KT, KM, GRS) and variable Y (Harga)."
   ]
  }
 ],
 "metadata": {
  "colab": {
   "collapsed_sections": [
    "edd98dda",
    "50eb1eba",
    "e72d41b8",
    "bb64653c",
    "cQ4f6pDgd62Y",
    "qMhBiwS2botw"
   ],
   "provenance": []
  },
  "kernelspec": {
   "display_name": "Python 3 (ipykernel)",
   "language": "python",
   "name": "python3"
  },
  "language_info": {
   "codemirror_mode": {
    "name": "ipython",
    "version": 3
   },
   "file_extension": ".py",
   "mimetype": "text/x-python",
   "name": "python",
   "nbconvert_exporter": "python",
   "pygments_lexer": "ipython3",
   "version": "3.11.5"
  },
  "papermill": {
   "default_parameters": {},
   "duration": 24.453828,
   "end_time": "2023-09-29T06:51:56.531064",
   "environment_variables": {},
   "exception": null,
   "input_path": "__notebook__.ipynb",
   "output_path": "__notebook__.ipynb",
   "parameters": {},
   "start_time": "2023-09-29T06:51:32.077236",
   "version": "2.4.0"
  }
 },
 "nbformat": 4,
 "nbformat_minor": 5
}
