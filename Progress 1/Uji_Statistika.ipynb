{
 "cells": [
  {
   "cell_type": "code",
   "execution_count": 17,
   "metadata": {},
   "outputs": [
    {
     "name": "stdout",
     "output_type": "stream",
     "text": [
      "<class 'pandas.core.frame.DataFrame'>\n",
      "RangeIndex: 1010 entries, 0 to 1009\n",
      "Data columns (total 8 columns):\n",
      " #   Column      Non-Null Count  Dtype \n",
      "---  ------      --------------  ----- \n",
      " 0   NO          1010 non-null   int64 \n",
      " 1   NAMA RUMAH  1010 non-null   object\n",
      " 2   HARGA       1010 non-null   int64 \n",
      " 3   LB          1010 non-null   int64 \n",
      " 4   LT          1010 non-null   int64 \n",
      " 5   KT          1010 non-null   int64 \n",
      " 6   KM          1010 non-null   int64 \n",
      " 7   GRS         1010 non-null   int64 \n",
      "dtypes: int64(7), object(1)\n",
      "memory usage: 63.3+ KB\n"
     ]
    }
   ],
   "source": [
    "import pandas as pd\n",
    "import matplotlib.pyplot as plt\n",
    "\n",
    "df = pd.read_excel(r'C:\\Users\\asus\\OneDrive\\Documents\\PASD\\DATA RUMAH TEBET.xlsx')\n",
    "df.info()"
   ]
  },
  {
   "cell_type": "code",
   "execution_count": 18,
   "metadata": {},
   "outputs": [
    {
     "data": {
      "text/html": [
       "<div>\n",
       "<style scoped>\n",
       "    .dataframe tbody tr th:only-of-type {\n",
       "        vertical-align: middle;\n",
       "    }\n",
       "\n",
       "    .dataframe tbody tr th {\n",
       "        vertical-align: top;\n",
       "    }\n",
       "\n",
       "    .dataframe thead th {\n",
       "        text-align: right;\n",
       "    }\n",
       "</style>\n",
       "<table border=\"1\" class=\"dataframe\">\n",
       "  <thead>\n",
       "    <tr style=\"text-align: right;\">\n",
       "      <th></th>\n",
       "      <th>LB</th>\n",
       "      <th>LT</th>\n",
       "      <th>KT</th>\n",
       "      <th>KM</th>\n",
       "      <th>GRS</th>\n",
       "      <th>HARGA</th>\n",
       "    </tr>\n",
       "  </thead>\n",
       "  <tbody>\n",
       "    <tr>\n",
       "      <th>0</th>\n",
       "      <td>220</td>\n",
       "      <td>220</td>\n",
       "      <td>3</td>\n",
       "      <td>3</td>\n",
       "      <td>0</td>\n",
       "      <td>3800000000</td>\n",
       "    </tr>\n",
       "    <tr>\n",
       "      <th>1</th>\n",
       "      <td>180</td>\n",
       "      <td>137</td>\n",
       "      <td>4</td>\n",
       "      <td>3</td>\n",
       "      <td>2</td>\n",
       "      <td>4600000000</td>\n",
       "    </tr>\n",
       "    <tr>\n",
       "      <th>2</th>\n",
       "      <td>267</td>\n",
       "      <td>250</td>\n",
       "      <td>4</td>\n",
       "      <td>4</td>\n",
       "      <td>4</td>\n",
       "      <td>3000000000</td>\n",
       "    </tr>\n",
       "    <tr>\n",
       "      <th>3</th>\n",
       "      <td>40</td>\n",
       "      <td>25</td>\n",
       "      <td>2</td>\n",
       "      <td>2</td>\n",
       "      <td>0</td>\n",
       "      <td>430000000</td>\n",
       "    </tr>\n",
       "    <tr>\n",
       "      <th>4</th>\n",
       "      <td>400</td>\n",
       "      <td>355</td>\n",
       "      <td>6</td>\n",
       "      <td>5</td>\n",
       "      <td>3</td>\n",
       "      <td>9000000000</td>\n",
       "    </tr>\n",
       "  </tbody>\n",
       "</table>\n",
       "</div>"
      ],
      "text/plain": [
       "    LB   LT  KT  KM  GRS       HARGA\n",
       "0  220  220   3   3    0  3800000000\n",
       "1  180  137   4   3    2  4600000000\n",
       "2  267  250   4   4    4  3000000000\n",
       "3   40   25   2   2    0   430000000\n",
       "4  400  355   6   5    3  9000000000"
      ]
     },
     "execution_count": 18,
     "metadata": {},
     "output_type": "execute_result"
    }
   ],
   "source": [
    "df = df.loc[:,['LB', 'LT', 'KT', 'KM', 'GRS', 'HARGA']]\n",
    "df.head()"
   ]
  },
  {
   "cell_type": "markdown",
   "metadata": {},
   "source": [
    "### **Menentukan Variabel X (Independent) dan Y (Dependen)**"
   ]
  },
  {
   "cell_type": "code",
   "execution_count": 19,
   "metadata": {},
   "outputs": [],
   "source": [
    "x = df.drop(columns=['HARGA'])\n",
    "y = df['HARGA']"
   ]
  },
  {
   "cell_type": "markdown",
   "metadata": {},
   "source": [
    "### OLS Regression Result"
   ]
  },
  {
   "cell_type": "code",
   "execution_count": 25,
   "metadata": {},
   "outputs": [
    {
     "data": {
      "text/html": [
       "<table class=\"simpletable\">\n",
       "<caption>OLS Regression Results</caption>\n",
       "<tr>\n",
       "  <th>Dep. Variable:</th>          <td>HARGA</td>      <th>  R-squared:         </th> <td>   0.716</td> \n",
       "</tr>\n",
       "<tr>\n",
       "  <th>Model:</th>                   <td>OLS</td>       <th>  Adj. R-squared:    </th> <td>   0.715</td> \n",
       "</tr>\n",
       "<tr>\n",
       "  <th>Method:</th>             <td>Least Squares</td>  <th>  F-statistic:       </th> <td>   506.8</td> \n",
       "</tr>\n",
       "<tr>\n",
       "  <th>Date:</th>             <td>Thu, 08 May 2025</td> <th>  Prob (F-statistic):</th> <td>1.25e-271</td>\n",
       "</tr>\n",
       "<tr>\n",
       "  <th>Time:</th>                 <td>13:31:14</td>     <th>  Log-Likelihood:    </th> <td> -23740.</td> \n",
       "</tr>\n",
       "<tr>\n",
       "  <th>No. Observations:</th>      <td>  1010</td>      <th>  AIC:               </th> <td>4.749e+04</td>\n",
       "</tr>\n",
       "<tr>\n",
       "  <th>Df Residuals:</th>          <td>  1004</td>      <th>  BIC:               </th> <td>4.752e+04</td>\n",
       "</tr>\n",
       "<tr>\n",
       "  <th>Df Model:</th>              <td>     5</td>      <th>                     </th>     <td> </td>    \n",
       "</tr>\n",
       "<tr>\n",
       "  <th>Covariance Type:</th>      <td>nonrobust</td>    <th>                     </th>     <td> </td>    \n",
       "</tr>\n",
       "</table>\n",
       "<table class=\"simpletable\">\n",
       "<tr>\n",
       "    <td></td>       <th>coef</th>     <th>std err</th>      <th>t</th>      <th>P>|t|</th>  <th>[0.025</th>    <th>0.975]</th>  \n",
       "</tr>\n",
       "<tr>\n",
       "  <th>const</th> <td>-7.417e+08</td> <td>    4e+08</td> <td>   -1.856</td> <td> 0.064</td> <td>-1.53e+09</td> <td> 4.27e+07</td>\n",
       "</tr>\n",
       "<tr>\n",
       "  <th>LB</th>    <td> 1.232e+07</td> <td> 1.14e+06</td> <td>   10.824</td> <td> 0.000</td> <td> 1.01e+07</td> <td> 1.46e+07</td>\n",
       "</tr>\n",
       "<tr>\n",
       "  <th>LT</th>    <td> 2.366e+07</td> <td> 1.06e+06</td> <td>   22.221</td> <td> 0.000</td> <td> 2.16e+07</td> <td> 2.57e+07</td>\n",
       "</tr>\n",
       "<tr>\n",
       "  <th>KT</th>    <td>-6.195e+08</td> <td> 1.09e+08</td> <td>   -5.686</td> <td> 0.000</td> <td>-8.33e+08</td> <td>-4.06e+08</td>\n",
       "</tr>\n",
       "<tr>\n",
       "  <th>KM</th>    <td> 4.555e+08</td> <td> 1.27e+08</td> <td>    3.598</td> <td> 0.000</td> <td> 2.07e+08</td> <td> 7.04e+08</td>\n",
       "</tr>\n",
       "<tr>\n",
       "  <th>GRS</th>   <td>   3.1e+08</td> <td> 9.66e+07</td> <td>    3.209</td> <td> 0.001</td> <td>  1.2e+08</td> <td> 4.99e+08</td>\n",
       "</tr>\n",
       "</table>\n",
       "<table class=\"simpletable\">\n",
       "<tr>\n",
       "  <th>Omnibus:</th>       <td>908.406</td> <th>  Durbin-Watson:     </th> <td>   1.944</td> \n",
       "</tr>\n",
       "<tr>\n",
       "  <th>Prob(Omnibus):</th> <td> 0.000</td>  <th>  Jarque-Bera (JB):  </th> <td>98134.485</td>\n",
       "</tr>\n",
       "<tr>\n",
       "  <th>Skew:</th>          <td> 3.611</td>  <th>  Prob(JB):          </th> <td>    0.00</td> \n",
       "</tr>\n",
       "<tr>\n",
       "  <th>Kurtosis:</th>      <td>50.747</td>  <th>  Cond. No.          </th> <td>1.42e+03</td> \n",
       "</tr>\n",
       "</table><br/><br/>Notes:<br/>[1] Standard Errors assume that the covariance matrix of the errors is correctly specified.<br/>[2] The condition number is large, 1.42e+03. This might indicate that there are<br/>strong multicollinearity or other numerical problems."
      ],
      "text/latex": [
       "\\begin{center}\n",
       "\\begin{tabular}{lclc}\n",
       "\\toprule\n",
       "\\textbf{Dep. Variable:}    &      HARGA       & \\textbf{  R-squared:         } &     0.716   \\\\\n",
       "\\textbf{Model:}            &       OLS        & \\textbf{  Adj. R-squared:    } &     0.715   \\\\\n",
       "\\textbf{Method:}           &  Least Squares   & \\textbf{  F-statistic:       } &     506.8   \\\\\n",
       "\\textbf{Date:}             & Thu, 08 May 2025 & \\textbf{  Prob (F-statistic):} & 1.25e-271   \\\\\n",
       "\\textbf{Time:}             &     13:31:14     & \\textbf{  Log-Likelihood:    } &   -23740.   \\\\\n",
       "\\textbf{No. Observations:} &        1010      & \\textbf{  AIC:               } & 4.749e+04   \\\\\n",
       "\\textbf{Df Residuals:}     &        1004      & \\textbf{  BIC:               } & 4.752e+04   \\\\\n",
       "\\textbf{Df Model:}         &           5      & \\textbf{                     } &             \\\\\n",
       "\\textbf{Covariance Type:}  &    nonrobust     & \\textbf{                     } &             \\\\\n",
       "\\bottomrule\n",
       "\\end{tabular}\n",
       "\\begin{tabular}{lcccccc}\n",
       "               & \\textbf{coef} & \\textbf{std err} & \\textbf{t} & \\textbf{P$> |$t$|$} & \\textbf{[0.025} & \\textbf{0.975]}  \\\\\n",
       "\\midrule\n",
       "\\textbf{const} &   -7.417e+08  &        4e+08     &    -1.856  &         0.064        &    -1.53e+09    &     4.27e+07     \\\\\n",
       "\\textbf{LB}    &    1.232e+07  &     1.14e+06     &    10.824  &         0.000        &     1.01e+07    &     1.46e+07     \\\\\n",
       "\\textbf{LT}    &    2.366e+07  &     1.06e+06     &    22.221  &         0.000        &     2.16e+07    &     2.57e+07     \\\\\n",
       "\\textbf{KT}    &   -6.195e+08  &     1.09e+08     &    -5.686  &         0.000        &    -8.33e+08    &    -4.06e+08     \\\\\n",
       "\\textbf{KM}    &    4.555e+08  &     1.27e+08     &     3.598  &         0.000        &     2.07e+08    &     7.04e+08     \\\\\n",
       "\\textbf{GRS}   &      3.1e+08  &     9.66e+07     &     3.209  &         0.001        &      1.2e+08    &     4.99e+08     \\\\\n",
       "\\bottomrule\n",
       "\\end{tabular}\n",
       "\\begin{tabular}{lclc}\n",
       "\\textbf{Omnibus:}       & 908.406 & \\textbf{  Durbin-Watson:     } &     1.944  \\\\\n",
       "\\textbf{Prob(Omnibus):} &   0.000 & \\textbf{  Jarque-Bera (JB):  } & 98134.485  \\\\\n",
       "\\textbf{Skew:}          &   3.611 & \\textbf{  Prob(JB):          } &      0.00  \\\\\n",
       "\\textbf{Kurtosis:}      &  50.747 & \\textbf{  Cond. No.          } &  1.42e+03  \\\\\n",
       "\\bottomrule\n",
       "\\end{tabular}\n",
       "%\\caption{OLS Regression Results}\n",
       "\\end{center}\n",
       "\n",
       "Notes: \\newline\n",
       " [1] Standard Errors assume that the covariance matrix of the errors is correctly specified. \\newline\n",
       " [2] The condition number is large, 1.42e+03. This might indicate that there are \\newline\n",
       " strong multicollinearity or other numerical problems."
      ],
      "text/plain": [
       "<class 'statsmodels.iolib.summary.Summary'>\n",
       "\"\"\"\n",
       "                            OLS Regression Results                            \n",
       "==============================================================================\n",
       "Dep. Variable:                  HARGA   R-squared:                       0.716\n",
       "Model:                            OLS   Adj. R-squared:                  0.715\n",
       "Method:                 Least Squares   F-statistic:                     506.8\n",
       "Date:                Thu, 08 May 2025   Prob (F-statistic):          1.25e-271\n",
       "Time:                        13:31:14   Log-Likelihood:                -23740.\n",
       "No. Observations:                1010   AIC:                         4.749e+04\n",
       "Df Residuals:                    1004   BIC:                         4.752e+04\n",
       "Df Model:                           5                                         \n",
       "Covariance Type:            nonrobust                                         \n",
       "==============================================================================\n",
       "                 coef    std err          t      P>|t|      [0.025      0.975]\n",
       "------------------------------------------------------------------------------\n",
       "const      -7.417e+08      4e+08     -1.856      0.064   -1.53e+09    4.27e+07\n",
       "LB          1.232e+07   1.14e+06     10.824      0.000    1.01e+07    1.46e+07\n",
       "LT          2.366e+07   1.06e+06     22.221      0.000    2.16e+07    2.57e+07\n",
       "KT         -6.195e+08   1.09e+08     -5.686      0.000   -8.33e+08   -4.06e+08\n",
       "KM          4.555e+08   1.27e+08      3.598      0.000    2.07e+08    7.04e+08\n",
       "GRS           3.1e+08   9.66e+07      3.209      0.001     1.2e+08    4.99e+08\n",
       "==============================================================================\n",
       "Omnibus:                      908.406   Durbin-Watson:                   1.944\n",
       "Prob(Omnibus):                  0.000   Jarque-Bera (JB):            98134.485\n",
       "Skew:                           3.611   Prob(JB):                         0.00\n",
       "Kurtosis:                      50.747   Cond. No.                     1.42e+03\n",
       "==============================================================================\n",
       "\n",
       "Notes:\n",
       "[1] Standard Errors assume that the covariance matrix of the errors is correctly specified.\n",
       "[2] The condition number is large, 1.42e+03. This might indicate that there are\n",
       "strong multicollinearity or other numerical problems.\n",
       "\"\"\""
      ]
     },
     "execution_count": 25,
     "metadata": {},
     "output_type": "execute_result"
    }
   ],
   "source": [
    "import statsmodels.api as sm\n",
    "\n",
    "# adding a constant variable\n",
    "X=sm.add_constant(x)\n",
    "model=sm.OLS(y,X).fit()\n",
    "model.summary()"
   ]
  },
  {
   "cell_type": "markdown",
   "metadata": {},
   "source": [
    "# Uji Normalitas\n",
    "\n",
    "Dalam uji normalitas, kita menggunakan nilai **Prob Jarque Bera (JB)** dari hasil uji di atas sebesar **0.00**. Dengan hipotesis sebagai berikut:\n",
    "\n",
    "## Menentukan Hipotesis\n",
    "- **H0** : Residual berdistribusi normal  \n",
    "- **H1** : Residual tidak berdistribusi normal\n",
    "\n",
    "## Tingkat Signifikansi\n",
    "- ∝ = 5% (∝ = 0.05)\n",
    "\n",
    "## Statistik Uji\n",
    "- p-value = 0.00\n",
    "\n",
    "## Daerah Kritis\n",
    "- Tolak H0 jika p-value < α\n",
    "\n",
    "## Keputusan\n",
    "- Karena p-value sama dengan 0.00, di mana p-value < α yaitu 0.00 < 0.05, maka **tolak H0**.\n",
    "\n",
    "## Kesimpulan\n",
    "- Pada dataset ini, data **tidak berdistribusi normal**.\n"
   ]
  },
  {
   "cell_type": "markdown",
   "metadata": {},
   "source": [
    "## Uji Multikolinearitas"
   ]
  },
  {
   "cell_type": "code",
   "execution_count": 22,
   "metadata": {},
   "outputs": [
    {
     "name": "stdout",
     "output_type": "stream",
     "text": [
      "[10.500700619760497, 2.6902235160668386, 2.4102909422599326, 1.9280243602936884, 2.1222604720799554, 1.398235535323092]\n"
     ]
    }
   ],
   "source": [
    "from patsy import dmatrices\n",
    "import statsmodels.formula.api as smf\n",
    "from statsmodels.stats.outliers_influence import variance_inflation_factor\n",
    "\n",
    "lm = smf.ols(formula = \"HARGA~LB+LT+KT+KM+GRS\", data = df).fit()\n",
    "Y,X = dmatrices (\"HARGA~LB+LT+KT+KM+GRS\", data = df, return_type =\"dataframe\")\n",
    "vif = [variance_inflation_factor(X.values, i) for i in range (X.shape[1])]\n",
    "print(vif)"
   ]
  },
  {
   "cell_type": "markdown",
   "metadata": {},
   "source": []
  },
  {
   "cell_type": "markdown",
   "metadata": {},
   "source": [
    "# Uji Multikolinearitas\n",
    "\n",
    "Uji multikolinearitas dilakukan untuk menunjukkan apakah terdapat korelasi antar variabel independen dalam regresi linear berganda.\n",
    "\n",
    "## Menentukan Hipotesis\n",
    "- **H0** : VIF < 10 berarti tidak ada multikolinearitas  \n",
    "- **H1** : VIF > 10 berarti terdapat multikolinearitas\n",
    "\n",
    "## Tingkat Signifikansi\n",
    "- ∝ = 5% (∝ = 0.05)\n",
    "\n",
    "## Statistik Uji\n",
    "- VIF :\n",
    "  - Constant = 10,500\n",
    "  - LB = 2,690\n",
    "  - LT = 2,410\n",
    "  - KT = 1,928\n",
    "  - Miles (KM) = 2,122\n",
    "  - GRS = 2,122\n",
    "\n",
    "## Daerah Kritis\n",
    "- Tolak H0 jika VIF > ∝\n",
    "\n",
    "## Keputusan\n",
    "- Karena nilai VIF (LB = 2,690, LT = 2,410, KT = 1,928, KM = 2,122, dan GRS = 2,122) < 10, maka **gagal menolak H0**.\n",
    "\n",
    "## Kesimpulan\n",
    "- Dengan demikian, dataset ini **tidak memiliki multikolinearitas**.\n"
   ]
  },
  {
   "cell_type": "markdown",
   "metadata": {},
   "source": [
    "## Uji Heteroskedastisitas"
   ]
  },
  {
   "cell_type": "code",
   "execution_count": 23,
   "metadata": {},
   "outputs": [
    {
     "data": {
      "text/plain": [
       "<matplotlib.collections.PathCollection at 0x2105a34ee50>"
      ]
     },
     "execution_count": 23,
     "metadata": {},
     "output_type": "execute_result"
    },
    {
     "data": {
      "image/png": "[encoded data removed]",
      "text/plain": [
       "<Figure size 640x480 with 1 Axes>"
      ]
     },
     "metadata": {},
     "output_type": "display_data"
    }
   ],
   "source": [
    "lm=smf.ols(formula=\"HARGA~LB+LT+KT+KM+GRS\",data=df).fit()\n",
    "lm\n",
    "resid=lm.resid\n",
    "plt.scatter(lm.predict(),resid)"
   ]
  },
  {
   "cell_type": "code",
   "execution_count": 24,
   "metadata": {},
   "outputs": [
    {
     "data": {
      "text/plain": [
       "(137.16019937750238,\n",
       " 1.746217253024452e-19,\n",
       " 7.770694982493068,\n",
       " 4.274750011792794e-21)"
      ]
     },
     "execution_count": 24,
     "metadata": {},
     "output_type": "execute_result"
    }
   ],
   "source": [
    "import statsmodels.stats as stats\n",
    "\n",
    "stats.diagnostic.het_white(resid, lm.model.exog)"
   ]
  },
  {
   "cell_type": "markdown",
   "metadata": {},
   "source": [
    "Berdasarkan hasil uji heteroskedastisitas, dapat dilihat bahwa titik-titik tidak membentuk pola yang jelas. Titik-titik tersebar di atas dan di bawah angka 0 pada sumbu Y.\n",
    "Kesimpulan: Dengan demikian, dapat disimpulkan bahwa **tidak terdapat masalah heteroskedastisitas** pada model regresi ini.\n"
   ]
  },
  {
   "cell_type": "markdown",
   "metadata": {},
   "source": [
    "# Uji Parsial (Uji t)\n",
    "\n",
    "Uji parsial digunakan untuk menentukan apakah variabel independen (X) memiliki pengaruh signifikan (nyata) terhadap variabel dependen (Y).\n",
    "\n",
    "## Hipotesis\n",
    "- **H0** : βi = 0, i = 0,1,2 (Tidak ada pengaruh signifikan antara X dan Y)  \n",
    "- **H1** : βi ≠ 0, i = 0,1,2 (Ada pengaruh signifikan antara X dan Y)\n",
    "\n",
    "## Tingkat Signifikansi\n",
    "- ∝ = 5% (0.05)\n",
    "\n",
    "## Daerah Kritis\n",
    "- Jika p-value ≤ ∝ (0.05) → Tolak H0\n",
    "\n",
    "## Statistik Uji (p-value)\n",
    "Hasil dari **OLS Regression Results**\n",
    "- Constant = 0.064  \n",
    "- LB = 0.000  \n",
    "- LT = 0.000  \n",
    "- KT = 0.000  \n",
    "- KM = 0.000  \n",
    "- GRS = 0.001\n",
    "\n",
    "## Keputusan\n",
    "- Karena p-value untuk β1, β2, β3, β4, β5 < ∝, maka **tolak H0**.\n",
    "\n",
    "## Kesimpulan\n",
    "- Dalam dataset ini terdapat **pengaruh signifikan** antara variabel X (LB, LT, KT, KM, GRS) terhadap variabel Y (Harga).\n"
   ]
  },
  {
   "cell_type": "markdown",
   "metadata": {},
   "source": [
    "# Manfaat Pengujian dalam Pengembangan Model Regresi Prediksi Harga Rumah\n",
    "\n",
    "Dalam membangun model regresi yang baik, penting untuk memastikan bahwa model memenuhi asumsi-asumsi dasar. Berikut manfaat dari masing-masing uji yang telah dilakukan:\n",
    "\n",
    "---\n",
    "\n",
    "## 1️⃣ Uji Normalitas\n",
    "- **Manfaat:** Memastikan bahwa residual (error) berdistribusi normal.  \n",
    "  Ini penting karena banyak uji statistik (seperti uji t, uji F) mengasumsikan residual normal agar hasilnya valid.  \n",
    "  Jika tidak normal, maka prediksi dan interval kepercayaannya mungkin tidak akurat.\n",
    "\n",
    "---\n",
    "\n",
    "## 2️⃣ Uji Multikolinearitas\n",
    "- **Manfaat:** Memastikan bahwa antar variabel independen (misal: luas bangunan, luas tanah, jumlah kamar, jarak ke pusat kota) **tidak saling berkorelasi terlalu kuat**.  \n",
    "  Jika terjadi multikolinearitas, maka:\n",
    "  - Interpretasi koefisien regresi jadi tidak jelas.\n",
    "  - Variabel penting bisa terlihat tidak signifikan.\n",
    "  Dengan VIF < 10, kita yakin bahwa variabel yang digunakan berdiri sendiri dan memberi kontribusi unik.\n",
    "\n",
    "---\n",
    "\n",
    "## 3️⃣ Uji Heteroskedastisitas\n",
    "- **Manfaat:** Memastikan bahwa **varian residual** konstan pada semua tingkat prediksi (homoskedastisitas).  \n",
    "  Jika ada heteroskedastisitas (varian berubah-ubah), maka:\n",
    "  - Estimasi standar error tidak akurat.\n",
    "  - Uji signifikansi menjadi tidak valid.\n",
    "  Dengan tidak adanya heteroskedastisitas, model lebih stabil dan andal untuk memprediksi harga rumah di berbagai kondisi.\n",
    "\n",
    "---\n",
    "\n",
    "## 4️⃣ Uji Parsial (Uji t)\n",
    "- **Manfaat:** Menguji **signifikansi masing-masing variabel independen** secara individual.  \n",
    "  Misalnya, apakah luas bangunan secara signifikan memengaruhi harga, apakah jumlah kamar signifikan, dan seterusnya.\n",
    "  Hasil ini membantu memilih variabel mana yang penting dipertahankan dalam model, sehingga:\n",
    "  - Model lebih sederhana.\n",
    "  - Menghindari overfitting.\n",
    "  - Fokus pada variabel yang benar-benar memengaruhi harga.\n",
    "\n",
    "---\n",
    "\n",
    "# Kesimpulan Umum\n",
    "Dengan melakukan serangkaian pengujian ini, pengembang model dapat:\n",
    "✅ Memastikan model memenuhi asumsi statistik utama.  \n",
    "✅ Memperbaiki kualitas prediksi dan interpretasi.  \n",
    "✅ Menghindari masalah teknis seperti bias, varians tinggi, atau variabel yang tidak relevan.  \n",
    "✅ Membangun model regresi yang lebih **akurat, stabil, dan dapat diandalkan** untuk memprediksi harga rumah di masa depan.\n",
    "\n"
   ]
  }
 ],
 "metadata": {
  "kernelspec": {
   "display_name": "base",
   "language": "python",
   "name": "python3"
  },
  "language_info": {
   "codemirror_mode": {
    "name": "ipython",
    "version": 3
   },
   "file_extension": ".py",
   "mimetype": "text/x-python",
   "name": "python",
   "nbconvert_exporter": "python",
   "pygments_lexer": "ipython3",
   "version": "3.11.5"
  }
 },
 "nbformat": 4,
 "nbformat_minor": 2
}
